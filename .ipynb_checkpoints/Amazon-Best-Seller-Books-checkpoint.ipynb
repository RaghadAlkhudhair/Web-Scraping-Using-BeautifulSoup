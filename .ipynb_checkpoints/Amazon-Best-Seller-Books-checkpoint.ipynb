{
 "cells": [
  {
   "cell_type": "markdown",
   "metadata": {},
   "source": [
    "## Request a web page and save it in an object"
   ]
  },
  {
   "cell_type": "code",
   "execution_count": 262,
   "metadata": {},
   "outputs": [],
   "source": [
    "from bs4 import BeautifulSoup\n",
    "import requests"
   ]
  },
  {
   "cell_type": "code",
   "execution_count": 263,
   "metadata": {},
   "outputs": [
    {
     "data": {
      "text/plain": [
       "200"
      ]
     },
     "execution_count": 263,
     "metadata": {},
     "output_type": "execute_result"
    }
   ],
   "source": [
    "url = 'https://www.amazon.com/gp/bestsellers/books' \n",
    "response = requests.get(url)\n",
    "response.status_code"
   ]
  },
  {
   "cell_type": "markdown",
   "metadata": {},
   "source": [
    "## Make a beautiful soup out of the web page Front End script"
   ]
  },
  {
   "cell_type": "code",
   "execution_count": 264,
   "metadata": {},
   "outputs": [
    {
     "name": "stdout",
     "output_type": "stream",
     "text": [
      "<!DOCTYPE html>\n",
      "<html class=\"a-no-js\" data-19ax5a9jf=\"dingo\" lang=\"en-us\">\n",
      " <!-- sp:feature:head-start -->\n",
      " <head>\n",
      "  <script>\n",
      "   var aPageStart = (new Date()).getTime();\n",
      "  </script>\n",
      "  <meta charset=\"utf-8\"/>\n",
      "  <!-- sp:feature:cs-optimization -->\n",
      "  <meta content=\"on\" http-equiv=\"x-dns-prefetch-control\"/>\n",
      "  <link href=\"https://images-na.ssl-images-amazon.com\" rel=\"dns-prefetch\"/>\n",
      "  <link href=\"https://m.media-amazon.com\" rel=\"dns-prefetch\"/>\n",
      "  <link href=\"https://completion.amazon.com\" rel=\"dns-prefetch\"/>\n",
      "  <!-- sp:feature:aui-assets -->\n",
      "  <link href=\"https://images-na.ssl-images-amazon.com/images/I/11EIQ5IGqaL._RC|01ZTHTZObnL.css,41SIz69qHYL.css,31qGOnSAToL.css,013z33uKh2L.css,017DsKjNQJL.css,0131vqwP5UL.css,41EWOOlBJ9L.css,11TIuySqr6L.css,01ElnPiDxWL.css,11bGSgD5pDL.css,01Dm5eKVxwL.css,01IdKcBuAdL.css,01y-XAlI+2L.css,21N4kUH7pxL.css,01oDR3IULNL.css,41-PwE7+H0L.css,21j0IlW7xKL.css,01XPHJk60-L.css,014OeDQisGL.css,21aPhFy+riL.css,11gneA3MtJL.css,21fecG8pUzL.css,01RddH8vm-L.css,01CFUgsA-Y\n"
     ]
    }
   ],
   "source": [
    "page = response.text\n",
    "soup = BeautifulSoup(page, \"lxml\")\n",
    "print(soup.prettify()[:1000])"
   ]
  },
  {
   "cell_type": "markdown",
   "metadata": {},
   "source": [
    "## Find all elements of a class "
   ]
  },
  {
   "cell_type": "code",
   "execution_count": 265,
   "metadata": {},
   "outputs": [],
   "source": [
    "books_list=soup.find_all(\"li\",class_=\"zg-item-immersion\")"
   ]
  },
  {
   "cell_type": "markdown",
   "metadata": {},
   "source": [
    "## Loop through elements to get data as a text and save it in a dictionary"
   ]
  },
  {
   "cell_type": "code",
   "execution_count": 266,
   "metadata": {},
   "outputs": [],
   "source": [
    "books_dict={}\n",
    "counter=0\n",
    "for element in books_list:\n",
    "    \n",
    "    try:\n",
    "        book_title=element.find(class_=\"p13n-sc-truncate p13n-sc-line-clamp-1\").text.strip()\n",
    "    except:\n",
    "        book_title=\"\"\n",
    "    \n",
    "    try:\n",
    "        book_author=element.find(class_=\"a-size-small a-link-child\").text.strip()\n",
    "    except:\n",
    "        book_author=\"\"\n",
    "        \n",
    "    try:\n",
    "        book_price=element.find(class_=\"p13n-sc-price\").text.strip()\n",
    "    except:\n",
    "        book_price=\"\"\n",
    "    \n",
    "    try:\n",
    "        book_rating=element.find(class_=\"a-icon a-icon-star a-star-4-5 aok-align-top\").text.strip().split(\" \")[0]\n",
    "    except:\n",
    "        book_rating=\"\"\n",
    "        \n",
    "    try:\n",
    "        reviews_number=element.find(class_=\"a-size-small a-link-normal\").text.strip()\n",
    "        reviews_link=element.find(class_=\"a-size-small a-link-normal\").get(\"href\")\n",
    "    except:\n",
    "        reviews_number=\"\"\n",
    "        reviews_link=\"\"\n",
    "        \n",
    "    \n",
    "    books_dict[counter]=[book_title,book_author,book_price,book_rating,reviews_number,reviews_link]\n",
    "    counter+=1"
   ]
  },
  {
   "cell_type": "code",
   "execution_count": 267,
   "metadata": {},
   "outputs": [
    {
     "data": {
      "text/plain": [
       "50"
      ]
     },
     "execution_count": 267,
     "metadata": {},
     "output_type": "execute_result"
    }
   ],
   "source": [
    "len(books_dict)"
   ]
  },
  {
   "cell_type": "markdown",
   "metadata": {},
   "source": [
    "## Convert dictionary to dataframe"
   ]
  },
  {
   "cell_type": "code",
   "execution_count": 268,
   "metadata": {},
   "outputs": [
    {
     "data": {
      "text/html": [
       "<div>\n",
       "<style scoped>\n",
       "    .dataframe tbody tr th:only-of-type {\n",
       "        vertical-align: middle;\n",
       "    }\n",
       "\n",
       "    .dataframe tbody tr th {\n",
       "        vertical-align: top;\n",
       "    }\n",
       "\n",
       "    .dataframe thead th {\n",
       "        text-align: right;\n",
       "    }\n",
       "</style>\n",
       "<table border=\"1\" class=\"dataframe\">\n",
       "  <thead>\n",
       "    <tr style=\"text-align: right;\">\n",
       "      <th></th>\n",
       "      <th>Book Name</th>\n",
       "      <th>Book Author</th>\n",
       "      <th>Book Price</th>\n",
       "      <th>Book Rating</th>\n",
       "      <th>reviews_number</th>\n",
       "      <th>reviews_link</th>\n",
       "    </tr>\n",
       "  </thead>\n",
       "  <tbody>\n",
       "    <tr>\n",
       "      <th>0</th>\n",
       "      <td>It Ends with Us: A Novel</td>\n",
       "      <td>Colleen Hoover</td>\n",
       "      <td>$9.94</td>\n",
       "      <td>4.7</td>\n",
       "      <td>29,781</td>\n",
       "      <td>/product-reviews/1501110365</td>\n",
       "    </tr>\n",
       "    <tr>\n",
       "      <th>1</th>\n",
       "      <td>Atomic Habits: An Easy &amp; Proven Way to Build G...</td>\n",
       "      <td>James Clear</td>\n",
       "      <td>$11.98</td>\n",
       "      <td></td>\n",
       "      <td>52,133</td>\n",
       "      <td>/product-reviews/0735211299</td>\n",
       "    </tr>\n",
       "    <tr>\n",
       "      <th>2</th>\n",
       "      <td>Joshua Weissman: An Unapologetic Cookbook</td>\n",
       "      <td>Joshua Weissman</td>\n",
       "      <td>$19.20</td>\n",
       "      <td></td>\n",
       "      <td></td>\n",
       "      <td></td>\n",
       "    </tr>\n",
       "    <tr>\n",
       "      <th>3</th>\n",
       "      <td>Apples Never Fall</td>\n",
       "      <td>Liane Moriarty</td>\n",
       "      <td>$20.29</td>\n",
       "      <td></td>\n",
       "      <td></td>\n",
       "      <td></td>\n",
       "    </tr>\n",
       "    <tr>\n",
       "      <th>4</th>\n",
       "      <td>American Marxism</td>\n",
       "      <td>Mark R. Levin</td>\n",
       "      <td>$16.80</td>\n",
       "      <td></td>\n",
       "      <td>12,708</td>\n",
       "      <td>/product-reviews/150113597X</td>\n",
       "    </tr>\n",
       "    <tr>\n",
       "      <th>5</th>\n",
       "      <td>Countdown bin Laden: The Untold Story of the 2...</td>\n",
       "      <td>Chris Wallace</td>\n",
       "      <td>$18.84</td>\n",
       "      <td></td>\n",
       "      <td>63</td>\n",
       "      <td>/product-reviews/1982176520</td>\n",
       "    </tr>\n",
       "    <tr>\n",
       "      <th>6</th>\n",
       "      <td>The Body Keeps the Score: Brain, Mind, and Bod...</td>\n",
       "      <td></td>\n",
       "      <td>$11.40</td>\n",
       "      <td></td>\n",
       "      <td>35,692</td>\n",
       "      <td>/product-reviews/0143127748</td>\n",
       "    </tr>\n",
       "    <tr>\n",
       "      <th>7</th>\n",
       "      <td>A Hunter-Gatherer's Guide to the 21st Century:...</td>\n",
       "      <td></td>\n",
       "      <td>$15.99</td>\n",
       "      <td></td>\n",
       "      <td></td>\n",
       "      <td></td>\n",
       "    </tr>\n",
       "    <tr>\n",
       "      <th>8</th>\n",
       "      <td>The Seven Husbands of Evelyn Hugo: A Novel</td>\n",
       "      <td>Taylor Jenkins Reid</td>\n",
       "      <td>$9.42</td>\n",
       "      <td>4.6</td>\n",
       "      <td>28,094</td>\n",
       "      <td>/product-reviews/1501161938</td>\n",
       "    </tr>\n",
       "    <tr>\n",
       "      <th>9</th>\n",
       "      <td>Beautiful World, Where Are You: A Novel</td>\n",
       "      <td>Sally Rooney</td>\n",
       "      <td>$16.88</td>\n",
       "      <td>4.4</td>\n",
       "      <td>87</td>\n",
       "      <td>/product-reviews/0374602603</td>\n",
       "    </tr>\n",
       "    <tr>\n",
       "      <th>10</th>\n",
       "      <td>The Last Thing He Told Me: A Novel</td>\n",
       "      <td>Laura Dave</td>\n",
       "      <td>$12.95</td>\n",
       "      <td>4.3</td>\n",
       "      <td>38,002</td>\n",
       "      <td>/product-reviews/1501171348</td>\n",
       "    </tr>\n",
       "    <tr>\n",
       "      <th>11</th>\n",
       "      <td>My First Learn to Write Workbook: Practice for...</td>\n",
       "      <td>Crystal Radke</td>\n",
       "      <td>$4.46</td>\n",
       "      <td></td>\n",
       "      <td>59,815</td>\n",
       "      <td>/product-reviews/1641526270</td>\n",
       "    </tr>\n",
       "    <tr>\n",
       "      <th>12</th>\n",
       "      <td>If Animals Kissed Good Night</td>\n",
       "      <td>Ann Whitford Paul</td>\n",
       "      <td>$4.44</td>\n",
       "      <td></td>\n",
       "      <td>54,430</td>\n",
       "      <td>/product-reviews/0374300216</td>\n",
       "    </tr>\n",
       "    <tr>\n",
       "      <th>13</th>\n",
       "      <td>The Very Hungry Caterpillar</td>\n",
       "      <td>Eric Carle</td>\n",
       "      <td>$5.06</td>\n",
       "      <td></td>\n",
       "      <td>39,665</td>\n",
       "      <td>/product-reviews/0399226907</td>\n",
       "    </tr>\n",
       "    <tr>\n",
       "      <th>14</th>\n",
       "      <td>The Four Agreements: A Practical Guide to Pers...</td>\n",
       "      <td>Don Miguel Ruiz</td>\n",
       "      <td>$5.77</td>\n",
       "      <td></td>\n",
       "      <td>64,694</td>\n",
       "      <td>/product-reviews/1878424319</td>\n",
       "    </tr>\n",
       "  </tbody>\n",
       "</table>\n",
       "</div>"
      ],
      "text/plain": [
       "                                            Book Name          Book Author  \\\n",
       "0                            It Ends with Us: A Novel       Colleen Hoover   \n",
       "1   Atomic Habits: An Easy & Proven Way to Build G...          James Clear   \n",
       "2           Joshua Weissman: An Unapologetic Cookbook      Joshua Weissman   \n",
       "3                                   Apples Never Fall       Liane Moriarty   \n",
       "4                                    American Marxism        Mark R. Levin   \n",
       "5   Countdown bin Laden: The Untold Story of the 2...        Chris Wallace   \n",
       "6   The Body Keeps the Score: Brain, Mind, and Bod...                        \n",
       "7   A Hunter-Gatherer's Guide to the 21st Century:...                        \n",
       "8          The Seven Husbands of Evelyn Hugo: A Novel  Taylor Jenkins Reid   \n",
       "9             Beautiful World, Where Are You: A Novel         Sally Rooney   \n",
       "10                 The Last Thing He Told Me: A Novel           Laura Dave   \n",
       "11  My First Learn to Write Workbook: Practice for...        Crystal Radke   \n",
       "12                       If Animals Kissed Good Night    Ann Whitford Paul   \n",
       "13                        The Very Hungry Caterpillar           Eric Carle   \n",
       "14  The Four Agreements: A Practical Guide to Pers...      Don Miguel Ruiz   \n",
       "\n",
       "   Book Price Book Rating reviews_number                 reviews_link  \n",
       "0       $9.94         4.7         29,781  /product-reviews/1501110365  \n",
       "1      $11.98                     52,133  /product-reviews/0735211299  \n",
       "2      $19.20                                                          \n",
       "3      $20.29                                                          \n",
       "4      $16.80                     12,708  /product-reviews/150113597X  \n",
       "5      $18.84                         63  /product-reviews/1982176520  \n",
       "6      $11.40                     35,692  /product-reviews/0143127748  \n",
       "7      $15.99                                                          \n",
       "8       $9.42         4.6         28,094  /product-reviews/1501161938  \n",
       "9      $16.88         4.4             87  /product-reviews/0374602603  \n",
       "10     $12.95         4.3         38,002  /product-reviews/1501171348  \n",
       "11      $4.46                     59,815  /product-reviews/1641526270  \n",
       "12      $4.44                     54,430  /product-reviews/0374300216  \n",
       "13      $5.06                     39,665  /product-reviews/0399226907  \n",
       "14      $5.77                     64,694  /product-reviews/1878424319  "
      ]
     },
     "execution_count": 268,
     "metadata": {},
     "output_type": "execute_result"
    }
   ],
   "source": [
    "import pandas as pd\n",
    "\n",
    "books_df = pd.DataFrame(books_dict).T \n",
    "books_df.columns=['Book Name','Book Author',\"Book Price\",\"Book Rating\",\"reviews_number\",\"reviews_link\"]\n",
    "books_df.head(15)"
   ]
  },
  {
   "cell_type": "markdown",
   "metadata": {},
   "source": [
    "## Clean Price Column"
   ]
  },
  {
   "cell_type": "code",
   "execution_count": 269,
   "metadata": {},
   "outputs": [],
   "source": [
    "def clean_price(text):\n",
    "    return text.split(\"$\")[1]"
   ]
  },
  {
   "cell_type": "code",
   "execution_count": 270,
   "metadata": {},
   "outputs": [],
   "source": [
    "books_df[\"Book Price\"]=books_df[\"Book Price\"].apply(clean_price)"
   ]
  },
  {
   "cell_type": "code",
   "execution_count": 271,
   "metadata": {},
   "outputs": [
    {
     "data": {
      "text/html": [
       "<div>\n",
       "<style scoped>\n",
       "    .dataframe tbody tr th:only-of-type {\n",
       "        vertical-align: middle;\n",
       "    }\n",
       "\n",
       "    .dataframe tbody tr th {\n",
       "        vertical-align: top;\n",
       "    }\n",
       "\n",
       "    .dataframe thead th {\n",
       "        text-align: right;\n",
       "    }\n",
       "</style>\n",
       "<table border=\"1\" class=\"dataframe\">\n",
       "  <thead>\n",
       "    <tr style=\"text-align: right;\">\n",
       "      <th></th>\n",
       "      <th>Book Name</th>\n",
       "      <th>Book Author</th>\n",
       "      <th>Book Price</th>\n",
       "      <th>Book Rating</th>\n",
       "      <th>reviews_number</th>\n",
       "      <th>reviews_link</th>\n",
       "    </tr>\n",
       "  </thead>\n",
       "  <tbody>\n",
       "    <tr>\n",
       "      <th>0</th>\n",
       "      <td>It Ends with Us: A Novel</td>\n",
       "      <td>Colleen Hoover</td>\n",
       "      <td>9.94</td>\n",
       "      <td>4.7</td>\n",
       "      <td>29,781</td>\n",
       "      <td>/product-reviews/1501110365</td>\n",
       "    </tr>\n",
       "    <tr>\n",
       "      <th>1</th>\n",
       "      <td>Atomic Habits: An Easy &amp; Proven Way to Build G...</td>\n",
       "      <td>James Clear</td>\n",
       "      <td>11.98</td>\n",
       "      <td></td>\n",
       "      <td>52,133</td>\n",
       "      <td>/product-reviews/0735211299</td>\n",
       "    </tr>\n",
       "    <tr>\n",
       "      <th>2</th>\n",
       "      <td>Joshua Weissman: An Unapologetic Cookbook</td>\n",
       "      <td>Joshua Weissman</td>\n",
       "      <td>19.20</td>\n",
       "      <td></td>\n",
       "      <td></td>\n",
       "      <td></td>\n",
       "    </tr>\n",
       "  </tbody>\n",
       "</table>\n",
       "</div>"
      ],
      "text/plain": [
       "                                           Book Name      Book Author  \\\n",
       "0                           It Ends with Us: A Novel   Colleen Hoover   \n",
       "1  Atomic Habits: An Easy & Proven Way to Build G...      James Clear   \n",
       "2          Joshua Weissman: An Unapologetic Cookbook  Joshua Weissman   \n",
       "\n",
       "  Book Price Book Rating reviews_number                 reviews_link  \n",
       "0       9.94         4.7         29,781  /product-reviews/1501110365  \n",
       "1      11.98                     52,133  /product-reviews/0735211299  \n",
       "2      19.20                                                          "
      ]
     },
     "execution_count": 271,
     "metadata": {},
     "output_type": "execute_result"
    }
   ],
   "source": [
    "books_df.head(3)"
   ]
  },
  {
   "cell_type": "markdown",
   "metadata": {},
   "source": [
    "## Clean URL column"
   ]
  },
  {
   "cell_type": "code",
   "execution_count": 272,
   "metadata": {},
   "outputs": [],
   "source": [
    "books_df[\"reviews_link\"]=\"https://www.amazon.com\"+(books_df[\"reviews_link\"])"
   ]
  },
  {
   "cell_type": "code",
   "execution_count": 273,
   "metadata": {},
   "outputs": [
    {
     "data": {
      "text/html": [
       "<div>\n",
       "<style scoped>\n",
       "    .dataframe tbody tr th:only-of-type {\n",
       "        vertical-align: middle;\n",
       "    }\n",
       "\n",
       "    .dataframe tbody tr th {\n",
       "        vertical-align: top;\n",
       "    }\n",
       "\n",
       "    .dataframe thead th {\n",
       "        text-align: right;\n",
       "    }\n",
       "</style>\n",
       "<table border=\"1\" class=\"dataframe\">\n",
       "  <thead>\n",
       "    <tr style=\"text-align: right;\">\n",
       "      <th></th>\n",
       "      <th>Book Name</th>\n",
       "      <th>Book Author</th>\n",
       "      <th>Book Price</th>\n",
       "      <th>Book Rating</th>\n",
       "      <th>reviews_number</th>\n",
       "      <th>reviews_link</th>\n",
       "    </tr>\n",
       "  </thead>\n",
       "  <tbody>\n",
       "    <tr>\n",
       "      <th>0</th>\n",
       "      <td>It Ends with Us: A Novel</td>\n",
       "      <td>Colleen Hoover</td>\n",
       "      <td>9.94</td>\n",
       "      <td>4.7</td>\n",
       "      <td>29,781</td>\n",
       "      <td>https://www.amazon.com/product-reviews/1501110365</td>\n",
       "    </tr>\n",
       "    <tr>\n",
       "      <th>1</th>\n",
       "      <td>Atomic Habits: An Easy &amp; Proven Way to Build G...</td>\n",
       "      <td>James Clear</td>\n",
       "      <td>11.98</td>\n",
       "      <td></td>\n",
       "      <td>52,133</td>\n",
       "      <td>https://www.amazon.com/product-reviews/0735211299</td>\n",
       "    </tr>\n",
       "    <tr>\n",
       "      <th>2</th>\n",
       "      <td>Joshua Weissman: An Unapologetic Cookbook</td>\n",
       "      <td>Joshua Weissman</td>\n",
       "      <td>19.20</td>\n",
       "      <td></td>\n",
       "      <td></td>\n",
       "      <td>https://www.amazon.com</td>\n",
       "    </tr>\n",
       "  </tbody>\n",
       "</table>\n",
       "</div>"
      ],
      "text/plain": [
       "                                           Book Name      Book Author  \\\n",
       "0                           It Ends with Us: A Novel   Colleen Hoover   \n",
       "1  Atomic Habits: An Easy & Proven Way to Build G...      James Clear   \n",
       "2          Joshua Weissman: An Unapologetic Cookbook  Joshua Weissman   \n",
       "\n",
       "  Book Price Book Rating reviews_number  \\\n",
       "0       9.94         4.7         29,781   \n",
       "1      11.98                     52,133   \n",
       "2      19.20                              \n",
       "\n",
       "                                        reviews_link  \n",
       "0  https://www.amazon.com/product-reviews/1501110365  \n",
       "1  https://www.amazon.com/product-reviews/0735211299  \n",
       "2                             https://www.amazon.com  "
      ]
     },
     "execution_count": 273,
     "metadata": {},
     "output_type": "execute_result"
    }
   ],
   "source": [
    "# Check if cleaned URL is valid\n",
    "books_df.head(3)"
   ]
  }
 ],
 "metadata": {
  "kernelspec": {
   "display_name": "Python 3",
   "language": "python",
   "name": "python3"
  },
  "language_info": {
   "codemirror_mode": {
    "name": "ipython",
    "version": 3
   },
   "file_extension": ".py",
   "mimetype": "text/x-python",
   "name": "python",
   "nbconvert_exporter": "python",
   "pygments_lexer": "ipython3",
   "version": "3.7.3"
  }
 },
 "nbformat": 4,
 "nbformat_minor": 2
}
