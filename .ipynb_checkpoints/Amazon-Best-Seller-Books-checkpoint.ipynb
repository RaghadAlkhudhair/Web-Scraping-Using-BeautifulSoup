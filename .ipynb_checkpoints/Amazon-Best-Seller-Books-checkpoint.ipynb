{
 "cells": [
  {
   "cell_type": "code",
   "execution_count": 4,
   "metadata": {},
   "outputs": [],
   "source": [
    "from bs4 import BeautifulSoup\n",
    "import requests"
   ]
  },
  {
   "cell_type": "code",
   "execution_count": 5,
   "metadata": {},
   "outputs": [
    {
     "data": {
      "text/plain": [
       "200"
      ]
     },
     "execution_count": 5,
     "metadata": {},
     "output_type": "execute_result"
    }
   ],
   "source": [
    "url = 'https://www.amazon.com/gp/bestsellers/books' \n",
    "response = requests.get(url)\n",
    "response.status_code"
   ]
  },
  {
   "cell_type": "code",
   "execution_count": 6,
   "metadata": {},
   "outputs": [
    {
     "name": "stdout",
     "output_type": "stream",
     "text": [
      "<!DOCTYPE html>\n",
      "<html class=\"a-no-js\" data-19ax5a9jf=\"dingo\" lang=\"en-us\">\n",
      " <!-- sp:feature:head-start -->\n",
      " <head>\n",
      "  <script>\n",
      "   var aPageStart = (new Date()).getTime();\n",
      "  </script>\n",
      "  <meta charset=\"utf-8\"/>\n",
      "  <!-- sp:feature:cs-optimization -->\n",
      "  <meta content=\"on\" http-equiv=\"x-dns-prefetch-control\"/>\n",
      "  <link href=\"https://images-na.ssl-images-amazon.com\" rel=\"dns-prefetch\"/>\n",
      "  <link href=\"https://m.media-amazon.com\" rel=\"dns-prefetch\"/>\n",
      "  <link href=\"https://completion.amazon.com\" rel=\"dns-prefetch\"/>\n",
      "  <!-- sp:feature:aui-assets -->\n",
      "  <link href=\"https://images-na.ssl-images-amazon.com/images/I/11EIQ5IGqaL._RC|01ZTHTZObnL.css,41SIz69qHYL.css,31qGOnSAToL.css,013z33uKh2L.css,017DsKjNQJL.css,0131vqwP5UL.css,41EWOOlBJ9L.css,11TIuySqr6L.css,01ElnPiDxWL.css,11bGSgD5pDL.css,01Dm5eKVxwL.css,01IdKcBuAdL.css,01y-XAlI+2L.css,21N4kUH7pxL.css,01oDR3IULNL.css,41-PwE7+H0L.css,21j0IlW7xKL.css,01XPHJk60-L.css,014OeDQisGL.css,21aPhFy+riL.css,11gneA3MtJL.css,21fecG8pUzL.css,01RddH8vm-L.css,01CFUgsA-Y\n"
     ]
    }
   ],
   "source": [
    "page = response.text\n",
    "soup = BeautifulSoup(page, \"lxml\")\n",
    "print(soup.prettify()[:1000])"
   ]
  },
  {
   "cell_type": "code",
   "execution_count": 7,
   "metadata": {},
   "outputs": [],
   "source": [
    "books_list=soup.find_all(\"li\",class_=\"zg-item-immersion\")"
   ]
  },
  {
   "cell_type": "code",
   "execution_count": 8,
   "metadata": {},
   "outputs": [],
   "source": [
    "books_dict={}\n",
    "counter=0\n",
    "for element in books_list:\n",
    "    \n",
    "    try:\n",
    "        book_title=element.find(class_=\"p13n-sc-truncate p13n-sc-line-clamp-1\").text.strip()\n",
    "    except:\n",
    "        book_title=\"\"\n",
    "    \n",
    "    try:\n",
    "        book_author=element.find(class_=\"a-size-small a-link-child\").text.strip()\n",
    "    except:\n",
    "        book_author=\"\"\n",
    "        \n",
    "    try:\n",
    "        book_price=element.find(class_=\"p13n-sc-price\").text.strip()\n",
    "    except:\n",
    "        book_price=\"\"\n",
    "    \n",
    "    try:\n",
    "        book_rating=element.find(class_=\"a-icon a-icon-star a-star-4-5 aok-align-top\").text.strip().split(\" \")[0]\n",
    "    except:\n",
    "        book_rating=\"\"\n",
    "        \n",
    "    try:\n",
    "        reviews_number=element.find(class_=\"a-size-small a-link-normal\").text.strip()\n",
    "    except:\n",
    "        reviews_number=\"\"\n",
    "        \n",
    "    \n",
    "    books_dict[counter]=[book_title,book_author,book_price,book_rating,reviews_number]\n",
    "    counter+=1"
   ]
  },
  {
   "cell_type": "code",
   "execution_count": 9,
   "metadata": {},
   "outputs": [
    {
     "data": {
      "text/plain": [
       "50"
      ]
     },
     "execution_count": 9,
     "metadata": {},
     "output_type": "execute_result"
    }
   ],
   "source": [
    "len(books_dict)"
   ]
  },
  {
   "cell_type": "code",
   "execution_count": 10,
   "metadata": {},
   "outputs": [
    {
     "data": {
      "text/html": [
       "<div>\n",
       "<style scoped>\n",
       "    .dataframe tbody tr th:only-of-type {\n",
       "        vertical-align: middle;\n",
       "    }\n",
       "\n",
       "    .dataframe tbody tr th {\n",
       "        vertical-align: top;\n",
       "    }\n",
       "\n",
       "    .dataframe thead th {\n",
       "        text-align: right;\n",
       "    }\n",
       "</style>\n",
       "<table border=\"1\" class=\"dataframe\">\n",
       "  <thead>\n",
       "    <tr style=\"text-align: right;\">\n",
       "      <th></th>\n",
       "      <th>Book Name</th>\n",
       "      <th>Book Author</th>\n",
       "      <th>Book Price</th>\n",
       "      <th>Book Rating</th>\n",
       "      <th>reviews_number</th>\n",
       "    </tr>\n",
       "  </thead>\n",
       "  <tbody>\n",
       "    <tr>\n",
       "      <th>0</th>\n",
       "      <td>It Ends with Us: A Novel</td>\n",
       "      <td>Colleen Hoover</td>\n",
       "      <td>$10.80</td>\n",
       "      <td>4.7</td>\n",
       "      <td>29,772</td>\n",
       "    </tr>\n",
       "    <tr>\n",
       "      <th>1</th>\n",
       "      <td>Countdown bin Laden: The Untold Story of the 2...</td>\n",
       "      <td>Chris Wallace</td>\n",
       "      <td>$18.84</td>\n",
       "      <td></td>\n",
       "      <td>62</td>\n",
       "    </tr>\n",
       "    <tr>\n",
       "      <th>2</th>\n",
       "      <td>Atomic Habits: An Easy &amp; Proven Way to Build G...</td>\n",
       "      <td>James Clear</td>\n",
       "      <td>$11.98</td>\n",
       "      <td></td>\n",
       "      <td>52,128</td>\n",
       "    </tr>\n",
       "    <tr>\n",
       "      <th>3</th>\n",
       "      <td>American Marxism</td>\n",
       "      <td>Mark R. Levin</td>\n",
       "      <td>$16.80</td>\n",
       "      <td></td>\n",
       "      <td>12,700</td>\n",
       "    </tr>\n",
       "    <tr>\n",
       "      <th>4</th>\n",
       "      <td>Apples Never Fall</td>\n",
       "      <td>Liane Moriarty</td>\n",
       "      <td>$17.39</td>\n",
       "      <td></td>\n",
       "      <td></td>\n",
       "    </tr>\n",
       "  </tbody>\n",
       "</table>\n",
       "</div>"
      ],
      "text/plain": [
       "                                           Book Name     Book Author  \\\n",
       "0                           It Ends with Us: A Novel  Colleen Hoover   \n",
       "1  Countdown bin Laden: The Untold Story of the 2...   Chris Wallace   \n",
       "2  Atomic Habits: An Easy & Proven Way to Build G...     James Clear   \n",
       "3                                   American Marxism   Mark R. Levin   \n",
       "4                                  Apples Never Fall  Liane Moriarty   \n",
       "\n",
       "  Book Price Book Rating reviews_number  \n",
       "0     $10.80         4.7         29,772  \n",
       "1     $18.84                         62  \n",
       "2     $11.98                     52,128  \n",
       "3     $16.80                     12,700  \n",
       "4     $17.39                             "
      ]
     },
     "execution_count": 10,
     "metadata": {},
     "output_type": "execute_result"
    }
   ],
   "source": [
    "import pandas as pd\n",
    "\n",
    "books_df = pd.DataFrame(books_dict).T \n",
    "books_df.columns=['Book Name','Book Author',\"Book Price\",\"Book Rating\",\"reviews_number\"]\n",
    "books_df.head(5)"
   ]
  }
 ],
 "metadata": {
  "kernelspec": {
   "display_name": "Python 3",
   "language": "python",
   "name": "python3"
  },
  "language_info": {
   "codemirror_mode": {
    "name": "ipython",
    "version": 3
   },
   "file_extension": ".py",
   "mimetype": "text/x-python",
   "name": "python",
   "nbconvert_exporter": "python",
   "pygments_lexer": "ipython3",
   "version": "3.7.3"
  }
 },
 "nbformat": 4,
 "nbformat_minor": 2
}
